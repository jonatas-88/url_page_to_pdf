{
 "cells": [
  {
   "cell_type": "code",
   "execution_count": 2,
   "id": "b65cc7aa",
   "metadata": {},
   "outputs": [],
   "source": [
    "from selenium import webdriver\n",
    "driver_path = r'C:\\Users\\jonat\\chromedriver.exe'"
   ]
  },
  {
   "cell_type": "code",
   "execution_count": null,
   "id": "d26e956f",
   "metadata": {},
   "outputs": [],
   "source": [
    "#https://stackoverflow.com/questions/23359083/how-to-convert-webpage-into-pdf-by-using-python\n",
    "#https://github.com/maxvst/python-selenium-chrome-html-to-pdf-converter/blob/master/sample/html_to_pdf_converter.py"
   ]
  },
  {
   "cell_type": "code",
   "execution_count": null,
   "id": "465c1f6a",
   "metadata": {},
   "outputs": [],
   "source": []
  },
  {
   "cell_type": "code",
   "execution_count": 3,
   "id": "46317f93",
   "metadata": {},
   "outputs": [],
   "source": [
    "import sys\n",
    "import json, base64\n",
    "\n",
    "\n",
    "def send_devtools(driver, cmd, params={}):\n",
    "    resource = \"/session/%s/chromium/send_command_and_get_result\" % driver.session_id\n",
    "    url = driver.command_executor._url + resource\n",
    "    body = json.dumps({'cmd': cmd, 'params': params})\n",
    "    response = driver.command_executor._request('POST', url, body)\n",
    "    return response.get('value')\n",
    "\n",
    "\n",
    "def get_pdf_from_html(driver, url, print_options={}, output_file_path=\"example2.pdf\"):\n",
    "    driver.get(url)\n",
    "\n",
    "    calculated_print_options = {\n",
    "        'landscape': False,\n",
    "        'displayHeaderFooter': False,\n",
    "        'printBackground': True,\n",
    "        'preferCSSPageSize': True,\n",
    "    }\n",
    "    calculated_print_options.update(print_options)\n",
    "    result = send_devtools(driver, \"Page.printToPDF\", calculated_print_options)\n",
    "    data = base64.b64decode(result['data'])\n",
    "    with open(output_file_path, \"wb\") as f:\n",
    "        f.write(data)\n",
    "\n",
    "# example\n",
    "from selenium import webdriver\n",
    "from selenium.webdriver.chrome.options import Options\n",
    "\n",
    "url = 'https://betterprogramming.pub/top-7-signs-of-a-highly-experienced-software-engineer-2643e5e2a19f'\n",
    "webdriver_options = Options()\n",
    "webdriver_options.add_argument(\"--no-sandbox\")\n",
    "webdriver_options.add_argument('--headless')\n",
    "webdriver_options.add_argument('--disable-gpu')\n",
    "driver = webdriver.Chrome(driver_path, options=webdriver_options)\n",
    "get_pdf_from_html(driver, url)\n",
    "driver.quit()"
   ]
  },
  {
   "cell_type": "code",
   "execution_count": null,
   "id": "c7932b47",
   "metadata": {},
   "outputs": [],
   "source": []
  }
 ],
 "metadata": {
  "kernelspec": {
   "display_name": "Python 3",
   "language": "python",
   "name": "python3"
  },
  "language_info": {
   "codemirror_mode": {
    "name": "ipython",
    "version": 3
   },
   "file_extension": ".py",
   "mimetype": "text/x-python",
   "name": "python",
   "nbconvert_exporter": "python",
   "pygments_lexer": "ipython3",
   "version": "3.9.2"
  }
 },
 "nbformat": 4,
 "nbformat_minor": 5
}
